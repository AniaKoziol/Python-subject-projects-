{
 "cells": [
  {
   "cell_type": "markdown",
   "metadata": {},
   "source": [
    "# PadPy praca domowa nr 2\n",
    "## Anna Kozioł\n",
    "\n",
    "Celem pracy domowej było wykonanie zapytań w języku sql i ich interpretacja oraz wywołania identycznych zapytań przy użyciu pakietu Pandas. \n",
    " Dla każdego z otrzymanych wyników dokonano sprawdzenia, czy  wyniki są tożsame oraz zapytanie 'pandas' jest on klasy DataFrame. Dodatkowo dokonano porówania czasów wykonania poszczególnych obliczeń. Podsumowanie zawiera wnioski z analizy.\n",
    "\n",
    "### 1. Wczytanie odpowiednich zbiorów danych, metod wyśwetlania oraz utworzenie tymczasowej bazy danych"
   ]
  },
  {
   "cell_type": "code",
   "execution_count": 200,
   "metadata": {},
   "outputs": [
    {
     "data": {
      "text/html": [
       "<style>\n",
       ".output {\n",
       "    flex-direction: row;\n",
       "}\n",
       "</style>"
      ],
      "text/plain": [
       "<IPython.core.display.HTML object>"
      ]
     },
     "execution_count": 200,
     "metadata": {},
     "output_type": "execute_result"
    }
   ],
   "source": [
    "import pandas as pd\n",
    "import numpy as np\n",
    "from IPython.display import display, HTML\n",
    "import sqlite3\n",
    "import tempfile\n",
    "import os\n",
    "import timeit\n",
    "\n",
    "CSS = \"\"\"\n",
    ".output {\n",
    "    flex-direction: row;\n",
    "}\n",
    "\"\"\"\n",
    "\n",
    "HTML('<style>{}</style>'.format(CSS))"
   ]
  },
  {
   "cell_type": "code",
   "execution_count": 201,
   "metadata": {},
   "outputs": [],
   "source": [
    "#pliki danych\n",
    "\n",
    "badges = pd.read_csv(\"file:///D:/Python/pd2/Badges.txt\", sep = \",\")\n",
    "comments = pd.read_csv(\"file:///D:/Python/pd2/Comments.txt\", sep = \",\")\n",
    "postLinks = pd.read_csv(\"file:///D:/Python/pd2/PostLinks.txt\", sep = \",\")\n",
    "posts = pd.read_csv(\"file:///D:/Python/pd2/Posts.txt\", sep = \",\")\n",
    "tags = pd.read_csv(\"file:///D:/Python/pd2/Tags.txt\", sep = \",\")\n",
    "users = pd.read_csv(\"file:///D:/Python/pd2/Users.txt\", sep = \",\")\n",
    "votes = pd.read_csv(\"file:///D:/Python/pd2/Votes.txt\", sep = \",\")\n",
    "\n",
    "baza = os.path.join(tempfile.mkdtemp(), \"baza.db\")\n",
    "if os.path.isfile(baza):\n",
    "    os.remove(baza)\n",
    "conn = sqlite3.connect(baza)\n",
    "\n",
    "badges.to_sql(\"badges\", conn)\n",
    "comments.to_sql(\"comments\", conn)\n",
    "postLinks.to_sql(\"postLinks\", conn)\n",
    "posts.to_sql(\"posts\", conn)\n",
    "tags.to_sql(\"tags\", conn)\n",
    "users.to_sql(\"users\", conn)\n",
    "votes.to_sql(\"votes\", conn)\n"
   ]
  },
  {
   "cell_type": "markdown",
   "metadata": {},
   "source": [
    "### Zapytanie 1\n",
    "\n",
    "Zapytanie zwraca dla każdego postu otrzymał ile głosów _'UpMod'_ określone jako UpVotes. "
   ]
  },
  {
   "cell_type": "code",
   "execution_count": 198,
   "metadata": {},
   "outputs": [
    {
     "data": {
      "text/html": [
       "<div>\n",
       "<style scoped>\n",
       "    .dataframe tbody tr th:only-of-type {\n",
       "        vertical-align: middle;\n",
       "    }\n",
       "\n",
       "    .dataframe tbody tr th {\n",
       "        vertical-align: top;\n",
       "    }\n",
       "\n",
       "    .dataframe thead th {\n",
       "        text-align: right;\n",
       "    }\n",
       "</style>\n",
       "<table border=\"1\" class=\"dataframe\">\n",
       "  <thead>\n",
       "    <tr style=\"text-align: right;\">\n",
       "      <th></th>\n",
       "      <th>PostId</th>\n",
       "      <th>UpVotes</th>\n",
       "    </tr>\n",
       "  </thead>\n",
       "  <tbody>\n",
       "    <tr>\n",
       "      <th>0</th>\n",
       "      <td>1</td>\n",
       "      <td>42</td>\n",
       "    </tr>\n",
       "    <tr>\n",
       "      <th>1</th>\n",
       "      <td>2</td>\n",
       "      <td>13</td>\n",
       "    </tr>\n",
       "    <tr>\n",
       "      <th>2</th>\n",
       "      <td>3</td>\n",
       "      <td>10</td>\n",
       "    </tr>\n",
       "    <tr>\n",
       "      <th>3</th>\n",
       "      <td>4</td>\n",
       "      <td>16</td>\n",
       "    </tr>\n",
       "    <tr>\n",
       "      <th>4</th>\n",
       "      <td>5</td>\n",
       "      <td>31</td>\n",
       "    </tr>\n",
       "    <tr>\n",
       "      <th>5</th>\n",
       "      <td>6</td>\n",
       "      <td>22</td>\n",
       "    </tr>\n",
       "    <tr>\n",
       "      <th>6</th>\n",
       "      <td>7</td>\n",
       "      <td>4</td>\n",
       "    </tr>\n",
       "    <tr>\n",
       "      <th>7</th>\n",
       "      <td>8</td>\n",
       "      <td>10</td>\n",
       "    </tr>\n",
       "    <tr>\n",
       "      <th>8</th>\n",
       "      <td>9</td>\n",
       "      <td>3</td>\n",
       "    </tr>\n",
       "    <tr>\n",
       "      <th>9</th>\n",
       "      <td>10</td>\n",
       "      <td>5</td>\n",
       "    </tr>\n",
       "  </tbody>\n",
       "</table>\n",
       "</div>"
      ],
      "text/plain": [
       "   PostId  UpVotes\n",
       "0       1       42\n",
       "1       2       13\n",
       "2       3       10\n",
       "3       4       16\n",
       "4       5       31\n",
       "5       6       22\n",
       "6       7        4\n",
       "7       8       10\n",
       "8       9        3\n",
       "9      10        5"
      ]
     },
     "metadata": {},
     "output_type": "display_data"
    },
    {
     "data": {
      "text/html": [
       "<div>\n",
       "<style scoped>\n",
       "    .dataframe tbody tr th:only-of-type {\n",
       "        vertical-align: middle;\n",
       "    }\n",
       "\n",
       "    .dataframe tbody tr th {\n",
       "        vertical-align: top;\n",
       "    }\n",
       "\n",
       "    .dataframe thead th {\n",
       "        text-align: right;\n",
       "    }\n",
       "</style>\n",
       "<table border=\"1\" class=\"dataframe\">\n",
       "  <thead>\n",
       "    <tr style=\"text-align: right;\">\n",
       "      <th></th>\n",
       "      <th>PostId</th>\n",
       "      <th>UpVotes</th>\n",
       "    </tr>\n",
       "  </thead>\n",
       "  <tbody>\n",
       "    <tr>\n",
       "      <th>0</th>\n",
       "      <td>1</td>\n",
       "      <td>42</td>\n",
       "    </tr>\n",
       "    <tr>\n",
       "      <th>1</th>\n",
       "      <td>2</td>\n",
       "      <td>13</td>\n",
       "    </tr>\n",
       "    <tr>\n",
       "      <th>2</th>\n",
       "      <td>3</td>\n",
       "      <td>10</td>\n",
       "    </tr>\n",
       "    <tr>\n",
       "      <th>3</th>\n",
       "      <td>4</td>\n",
       "      <td>16</td>\n",
       "    </tr>\n",
       "    <tr>\n",
       "      <th>4</th>\n",
       "      <td>5</td>\n",
       "      <td>31</td>\n",
       "    </tr>\n",
       "    <tr>\n",
       "      <th>5</th>\n",
       "      <td>6</td>\n",
       "      <td>22</td>\n",
       "    </tr>\n",
       "    <tr>\n",
       "      <th>6</th>\n",
       "      <td>7</td>\n",
       "      <td>4</td>\n",
       "    </tr>\n",
       "    <tr>\n",
       "      <th>7</th>\n",
       "      <td>8</td>\n",
       "      <td>10</td>\n",
       "    </tr>\n",
       "    <tr>\n",
       "      <th>8</th>\n",
       "      <td>9</td>\n",
       "      <td>3</td>\n",
       "    </tr>\n",
       "    <tr>\n",
       "      <th>9</th>\n",
       "      <td>10</td>\n",
       "      <td>5</td>\n",
       "    </tr>\n",
       "  </tbody>\n",
       "</table>\n",
       "</div>"
      ],
      "text/plain": [
       "   PostId  UpVotes\n",
       "0       1       42\n",
       "1       2       13\n",
       "2       3       10\n",
       "3       4       16\n",
       "4       5       31\n",
       "5       6       22\n",
       "6       7        4\n",
       "7       8       10\n",
       "8       9        3\n",
       "9      10        5"
      ]
     },
     "metadata": {},
     "output_type": "display_data"
    }
   ],
   "source": [
    "#sql\n",
    "\n",
    "start1 = timeit.default_timer()\n",
    "\n",
    "df_sgl_1 = pd.read_sql_query(\"SELECT PostId, COUNT(*) AS UpVotes \\\n",
    "                             FROM Votes WHERE VoteTypeId=2 GROUP BY PostId\", conn)\n",
    "\n",
    "t1_sql = timeit.default_timer() - start1\n",
    "\n",
    "#pandas \n",
    "\n",
    "start2 = timeit.default_timer()\n",
    "\n",
    "x = votes[votes.VoteTypeId == 2][['PostId']].groupby('PostId').size()\n",
    "df_pd_1 = x.to_frame().reset_index().rename(columns= {0: 'UpVotes'})\n",
    "\n",
    "t1_pd = timeit.default_timer() - start2\n",
    "\n",
    "#wynik\n",
    "\n",
    "display(df_pd_1.head(10))\n",
    "display(df_sgl_1.head(10))"
   ]
  },
  {
   "cell_type": "markdown",
   "metadata": {},
   "source": [
    "* sprawdzenie poprawności"
   ]
  },
  {
   "cell_type": "code",
   "execution_count": 92,
   "metadata": {},
   "outputs": [
    {
     "data": {
      "text/plain": [
       "True"
      ]
     },
     "execution_count": 92,
     "metadata": {},
     "output_type": "execute_result"
    }
   ],
   "source": [
    "df_sgl_1.equals(df_pd_1)"
   ]
  },
  {
   "cell_type": "markdown",
   "metadata": {},
   "source": [
    "* sprawdzenie typu\n"
   ]
  },
  {
   "cell_type": "code",
   "execution_count": 54,
   "metadata": {},
   "outputs": [
    {
     "data": {
      "text/plain": [
       "pandas.core.frame.DataFrame"
      ]
     },
     "execution_count": 54,
     "metadata": {},
     "output_type": "execute_result"
    }
   ],
   "source": [
    "type(df_pd_1)"
   ]
  },
  {
   "cell_type": "markdown",
   "metadata": {},
   "source": [
    "* porównanie czasów"
   ]
  },
  {
   "cell_type": "code",
   "execution_count": 199,
   "metadata": {},
   "outputs": [
    {
     "name": "stdout",
     "output_type": "stream",
     "text": [
      "sql: 0.1934735999966506s\n",
      "pd:  0.0216186999969068s\n"
     ]
    }
   ],
   "source": [
    "print('sql: ' + str(t1_sql) + 's')\n",
    "print('pd:  ' + str(t1_pd) + 's')"
   ]
  },
  {
   "cell_type": "markdown",
   "metadata": {},
   "source": [
    "### Zapytanie 2 \n",
    "Zapytanie zwraca Tytuł, Score, licznik wyświetleń (ViewCount),licznik ulubień (FavoriteCount) dla postów,\n",
    "które są pytaniami oraz mają ponad 10.000 ViewCount i ponad 25 FavoriteCount."
   ]
  },
  {
   "cell_type": "code",
   "execution_count": 202,
   "metadata": {},
   "outputs": [
    {
     "data": {
      "text/html": [
       "<div>\n",
       "<style scoped>\n",
       "    .dataframe tbody tr th:only-of-type {\n",
       "        vertical-align: middle;\n",
       "    }\n",
       "\n",
       "    .dataframe tbody tr th {\n",
       "        vertical-align: top;\n",
       "    }\n",
       "\n",
       "    .dataframe thead th {\n",
       "        text-align: right;\n",
       "    }\n",
       "</style>\n",
       "<table border=\"1\" class=\"dataframe\">\n",
       "  <thead>\n",
       "    <tr style=\"text-align: right;\">\n",
       "      <th></th>\n",
       "      <th>Title</th>\n",
       "      <th>Score</th>\n",
       "      <th>ViewCount</th>\n",
       "      <th>FavoriteCount</th>\n",
       "    </tr>\n",
       "  </thead>\n",
       "  <tbody>\n",
       "    <tr>\n",
       "      <th>0</th>\n",
       "      <td>Terminology index - a list of bike part names ...</td>\n",
       "      <td>165</td>\n",
       "      <td>129577.0</td>\n",
       "      <td>136.0</td>\n",
       "    </tr>\n",
       "    <tr>\n",
       "      <th>1</th>\n",
       "      <td>How to clean up at work after a commute?</td>\n",
       "      <td>101</td>\n",
       "      <td>40669.0</td>\n",
       "      <td>25.0</td>\n",
       "    </tr>\n",
       "    <tr>\n",
       "      <th>2</th>\n",
       "      <td>What's your most useful cycle accessory?</td>\n",
       "      <td>35</td>\n",
       "      <td>10024.0</td>\n",
       "      <td>30.0</td>\n",
       "    </tr>\n",
       "    <tr>\n",
       "      <th>3</th>\n",
       "      <td>Why ride a fixed-gear bike?</td>\n",
       "      <td>171</td>\n",
       "      <td>196543.0</td>\n",
       "      <td>46.0</td>\n",
       "    </tr>\n",
       "    <tr>\n",
       "      <th>4</th>\n",
       "      <td>How do I deal with a dog chasing me when I'm t...</td>\n",
       "      <td>109</td>\n",
       "      <td>50035.0</td>\n",
       "      <td>32.0</td>\n",
       "    </tr>\n",
       "  </tbody>\n",
       "</table>\n",
       "</div>"
      ],
      "text/plain": [
       "                                               Title  Score  ViewCount  \\\n",
       "0  Terminology index - a list of bike part names ...    165   129577.0   \n",
       "1           How to clean up at work after a commute?    101    40669.0   \n",
       "2           What's your most useful cycle accessory?     35    10024.0   \n",
       "3                        Why ride a fixed-gear bike?    171   196543.0   \n",
       "4  How do I deal with a dog chasing me when I'm t...    109    50035.0   \n",
       "\n",
       "   FavoriteCount  \n",
       "0          136.0  \n",
       "1           25.0  \n",
       "2           30.0  \n",
       "3           46.0  \n",
       "4           32.0  "
      ]
     },
     "metadata": {},
     "output_type": "display_data"
    },
    {
     "data": {
      "text/html": [
       "<div>\n",
       "<style scoped>\n",
       "    .dataframe tbody tr th:only-of-type {\n",
       "        vertical-align: middle;\n",
       "    }\n",
       "\n",
       "    .dataframe tbody tr th {\n",
       "        vertical-align: top;\n",
       "    }\n",
       "\n",
       "    .dataframe thead th {\n",
       "        text-align: right;\n",
       "    }\n",
       "</style>\n",
       "<table border=\"1\" class=\"dataframe\">\n",
       "  <thead>\n",
       "    <tr style=\"text-align: right;\">\n",
       "      <th></th>\n",
       "      <th>Title</th>\n",
       "      <th>Score</th>\n",
       "      <th>ViewCount</th>\n",
       "      <th>FavoriteCount</th>\n",
       "    </tr>\n",
       "  </thead>\n",
       "  <tbody>\n",
       "    <tr>\n",
       "      <th>0</th>\n",
       "      <td>Terminology index - a list of bike part names ...</td>\n",
       "      <td>165</td>\n",
       "      <td>129577.0</td>\n",
       "      <td>136.0</td>\n",
       "    </tr>\n",
       "    <tr>\n",
       "      <th>1</th>\n",
       "      <td>How to clean up at work after a commute?</td>\n",
       "      <td>101</td>\n",
       "      <td>40669.0</td>\n",
       "      <td>25.0</td>\n",
       "    </tr>\n",
       "    <tr>\n",
       "      <th>2</th>\n",
       "      <td>What's your most useful cycle accessory?</td>\n",
       "      <td>35</td>\n",
       "      <td>10024.0</td>\n",
       "      <td>30.0</td>\n",
       "    </tr>\n",
       "    <tr>\n",
       "      <th>3</th>\n",
       "      <td>Why ride a fixed-gear bike?</td>\n",
       "      <td>171</td>\n",
       "      <td>196543.0</td>\n",
       "      <td>46.0</td>\n",
       "    </tr>\n",
       "    <tr>\n",
       "      <th>4</th>\n",
       "      <td>How do I deal with a dog chasing me when I'm t...</td>\n",
       "      <td>109</td>\n",
       "      <td>50035.0</td>\n",
       "      <td>32.0</td>\n",
       "    </tr>\n",
       "  </tbody>\n",
       "</table>\n",
       "</div>"
      ],
      "text/plain": [
       "                                               Title  Score  ViewCount  \\\n",
       "0  Terminology index - a list of bike part names ...    165   129577.0   \n",
       "1           How to clean up at work after a commute?    101    40669.0   \n",
       "2           What's your most useful cycle accessory?     35    10024.0   \n",
       "3                        Why ride a fixed-gear bike?    171   196543.0   \n",
       "4  How do I deal with a dog chasing me when I'm t...    109    50035.0   \n",
       "\n",
       "   FavoriteCount  \n",
       "0          136.0  \n",
       "1           25.0  \n",
       "2           30.0  \n",
       "3           46.0  \n",
       "4           32.0  "
      ]
     },
     "metadata": {},
     "output_type": "display_data"
    }
   ],
   "source": [
    "#sql\n",
    "\n",
    "start1 = timeit.default_timer()\n",
    "\n",
    "df_sgl_2 = pd.read_sql_query(\"SELECT Title, Score, ViewCount, FavoriteCount\\\n",
    "                           FROM Posts WHERE PostTypeId=1 AND FavoriteCount >= 25 AND ViewCount>=10000\", conn)\n",
    "t2_sql = timeit.default_timer() - start1\n",
    "\n",
    "#pandas \n",
    "start2 = timeit.default_timer()\n",
    "\n",
    "df_pd_2 = posts[[\"Title\", \"Score\", \"ViewCount\", \"FavoriteCount\"]][(posts.PostTypeId == 1) & (posts.FavoriteCount >= 25) & (posts.ViewCount>=10000)] \\\n",
    "        .reset_index(drop= True)\n",
    "\n",
    "t2_pd = timeit.default_timer() - start2\n",
    "#wyniki\n",
    "\n",
    "display(df_pd_2.head(10))\n",
    "display(df_sgl_2.head(10))"
   ]
  },
  {
   "cell_type": "markdown",
   "metadata": {},
   "source": [
    "* sprawdzenie poprawności"
   ]
  },
  {
   "cell_type": "code",
   "execution_count": 91,
   "metadata": {},
   "outputs": [
    {
     "data": {
      "text/plain": [
       "True"
      ]
     },
     "execution_count": 91,
     "metadata": {},
     "output_type": "execute_result"
    }
   ],
   "source": [
    "df_sgl_2.equals(df_pd_2)"
   ]
  },
  {
   "cell_type": "markdown",
   "metadata": {},
   "source": [
    "* sprawdzenie typu"
   ]
  },
  {
   "cell_type": "code",
   "execution_count": 53,
   "metadata": {},
   "outputs": [
    {
     "data": {
      "text/plain": [
       "pandas.core.frame.DataFrame"
      ]
     },
     "execution_count": 53,
     "metadata": {},
     "output_type": "execute_result"
    }
   ],
   "source": [
    "type(df_pd_2)"
   ]
  },
  {
   "cell_type": "markdown",
   "metadata": {},
   "source": [
    "* porówanie czasów"
   ]
  },
  {
   "cell_type": "code",
   "execution_count": 203,
   "metadata": {},
   "outputs": [
    {
     "name": "stdout",
     "output_type": "stream",
     "text": [
      "sql: 0.01389270000072429s\n",
      "pd:  0.004494599997997284s\n"
     ]
    }
   ],
   "source": [
    "print('sql: ' + str(t2_sql) + 's')\n",
    "print('pd:  ' + str(t2_pd) + 's')"
   ]
  },
  {
   "cell_type": "markdown",
   "metadata": {},
   "source": [
    "### Zapytanie 3 \n",
    "\n",
    "Zapytanie zwraca nazwę Tagu, liczbę występowania (Count), Id autora, lokalizację oraz nick (DisplayName) \n",
    "dla autorów innych niż o Id = -1 w porządku malejącym względem liczby Count.\n",
    "\n"
   ]
  },
  {
   "cell_type": "code",
   "execution_count": 210,
   "metadata": {},
   "outputs": [
    {
     "data": {
      "text/html": [
       "<div>\n",
       "<style scoped>\n",
       "    .dataframe tbody tr th:only-of-type {\n",
       "        vertical-align: middle;\n",
       "    }\n",
       "\n",
       "    .dataframe tbody tr th {\n",
       "        vertical-align: top;\n",
       "    }\n",
       "\n",
       "    .dataframe thead th {\n",
       "        text-align: right;\n",
       "    }\n",
       "</style>\n",
       "<table border=\"1\" class=\"dataframe\">\n",
       "  <thead>\n",
       "    <tr style=\"text-align: right;\">\n",
       "      <th></th>\n",
       "      <th>TagName</th>\n",
       "      <th>Count</th>\n",
       "      <th>OwnerUserId</th>\n",
       "      <th>Location</th>\n",
       "      <th>DisplayName</th>\n",
       "    </tr>\n",
       "  </thead>\n",
       "  <tbody>\n",
       "    <tr>\n",
       "      <th>0</th>\n",
       "      <td>freewheel</td>\n",
       "      <td>167</td>\n",
       "      <td>3021.0</td>\n",
       "      <td>Moscow, Russia</td>\n",
       "      <td>jfs</td>\n",
       "    </tr>\n",
       "    <tr>\n",
       "      <th>1</th>\n",
       "      <td>preventative-maintenance</td>\n",
       "      <td>62</td>\n",
       "      <td>7044.0</td>\n",
       "      <td>Manchester, United Kingdom</td>\n",
       "      <td>Codebeef</td>\n",
       "    </tr>\n",
       "    <tr>\n",
       "      <th>2</th>\n",
       "      <td>7-speed</td>\n",
       "      <td>21</td>\n",
       "      <td>7044.0</td>\n",
       "      <td>Manchester, United Kingdom</td>\n",
       "      <td>Codebeef</td>\n",
       "    </tr>\n",
       "    <tr>\n",
       "      <th>3</th>\n",
       "      <td>lbs</td>\n",
       "      <td>15</td>\n",
       "      <td>3649.0</td>\n",
       "      <td>NaN</td>\n",
       "      <td>Tim</td>\n",
       "    </tr>\n",
       "    <tr>\n",
       "      <th>4</th>\n",
       "      <td>reliability</td>\n",
       "      <td>5</td>\n",
       "      <td>3927.0</td>\n",
       "      <td>Liverpool, United Kingdom</td>\n",
       "      <td>Will Boyce</td>\n",
       "    </tr>\n",
       "    <tr>\n",
       "      <th>5</th>\n",
       "      <td>sociable</td>\n",
       "      <td>2</td>\n",
       "      <td>7044.0</td>\n",
       "      <td>Manchester, United Kingdom</td>\n",
       "      <td>Codebeef</td>\n",
       "    </tr>\n",
       "    <tr>\n",
       "      <th>6</th>\n",
       "      <td>ordinary</td>\n",
       "      <td>1</td>\n",
       "      <td>7044.0</td>\n",
       "      <td>Manchester, United Kingdom</td>\n",
       "      <td>Codebeef</td>\n",
       "    </tr>\n",
       "    <tr>\n",
       "      <th>7</th>\n",
       "      <td>dicycle</td>\n",
       "      <td>1</td>\n",
       "      <td>7044.0</td>\n",
       "      <td>Manchester, United Kingdom</td>\n",
       "      <td>Codebeef</td>\n",
       "    </tr>\n",
       "  </tbody>\n",
       "</table>\n",
       "</div>"
      ],
      "text/plain": [
       "                    TagName  Count  OwnerUserId                    Location  \\\n",
       "0                 freewheel    167       3021.0              Moscow, Russia   \n",
       "1  preventative-maintenance     62       7044.0  Manchester, United Kingdom   \n",
       "2                   7-speed     21       7044.0  Manchester, United Kingdom   \n",
       "3                       lbs     15       3649.0                         NaN   \n",
       "4               reliability      5       3927.0   Liverpool, United Kingdom   \n",
       "5                  sociable      2       7044.0  Manchester, United Kingdom   \n",
       "6                  ordinary      1       7044.0  Manchester, United Kingdom   \n",
       "7                   dicycle      1       7044.0  Manchester, United Kingdom   \n",
       "\n",
       "  DisplayName  \n",
       "0         jfs  \n",
       "1    Codebeef  \n",
       "2    Codebeef  \n",
       "3         Tim  \n",
       "4  Will Boyce  \n",
       "5    Codebeef  \n",
       "6    Codebeef  \n",
       "7    Codebeef  "
      ]
     },
     "metadata": {},
     "output_type": "display_data"
    },
    {
     "data": {
      "text/html": [
       "<div>\n",
       "<style scoped>\n",
       "    .dataframe tbody tr th:only-of-type {\n",
       "        vertical-align: middle;\n",
       "    }\n",
       "\n",
       "    .dataframe tbody tr th {\n",
       "        vertical-align: top;\n",
       "    }\n",
       "\n",
       "    .dataframe thead th {\n",
       "        text-align: right;\n",
       "    }\n",
       "</style>\n",
       "<table border=\"1\" class=\"dataframe\">\n",
       "  <thead>\n",
       "    <tr style=\"text-align: right;\">\n",
       "      <th></th>\n",
       "      <th>TagName</th>\n",
       "      <th>Count</th>\n",
       "      <th>OwnerUserId</th>\n",
       "      <th>Location</th>\n",
       "      <th>DisplayName</th>\n",
       "    </tr>\n",
       "  </thead>\n",
       "  <tbody>\n",
       "    <tr>\n",
       "      <th>0</th>\n",
       "      <td>freewheel</td>\n",
       "      <td>167</td>\n",
       "      <td>3021.0</td>\n",
       "      <td>Moscow, Russia</td>\n",
       "      <td>jfs</td>\n",
       "    </tr>\n",
       "    <tr>\n",
       "      <th>1</th>\n",
       "      <td>preventative-maintenance</td>\n",
       "      <td>62</td>\n",
       "      <td>7044.0</td>\n",
       "      <td>Manchester, United Kingdom</td>\n",
       "      <td>Codebeef</td>\n",
       "    </tr>\n",
       "    <tr>\n",
       "      <th>2</th>\n",
       "      <td>7-speed</td>\n",
       "      <td>21</td>\n",
       "      <td>7044.0</td>\n",
       "      <td>Manchester, United Kingdom</td>\n",
       "      <td>Codebeef</td>\n",
       "    </tr>\n",
       "    <tr>\n",
       "      <th>3</th>\n",
       "      <td>lbs</td>\n",
       "      <td>15</td>\n",
       "      <td>3649.0</td>\n",
       "      <td>None</td>\n",
       "      <td>Tim</td>\n",
       "    </tr>\n",
       "    <tr>\n",
       "      <th>4</th>\n",
       "      <td>reliability</td>\n",
       "      <td>5</td>\n",
       "      <td>3927.0</td>\n",
       "      <td>Liverpool, United Kingdom</td>\n",
       "      <td>Will Boyce</td>\n",
       "    </tr>\n",
       "    <tr>\n",
       "      <th>5</th>\n",
       "      <td>sociable</td>\n",
       "      <td>2</td>\n",
       "      <td>7044.0</td>\n",
       "      <td>Manchester, United Kingdom</td>\n",
       "      <td>Codebeef</td>\n",
       "    </tr>\n",
       "    <tr>\n",
       "      <th>6</th>\n",
       "      <td>ordinary</td>\n",
       "      <td>1</td>\n",
       "      <td>7044.0</td>\n",
       "      <td>Manchester, United Kingdom</td>\n",
       "      <td>Codebeef</td>\n",
       "    </tr>\n",
       "    <tr>\n",
       "      <th>7</th>\n",
       "      <td>dicycle</td>\n",
       "      <td>1</td>\n",
       "      <td>7044.0</td>\n",
       "      <td>Manchester, United Kingdom</td>\n",
       "      <td>Codebeef</td>\n",
       "    </tr>\n",
       "  </tbody>\n",
       "</table>\n",
       "</div>"
      ],
      "text/plain": [
       "                    TagName  Count  OwnerUserId                    Location  \\\n",
       "0                 freewheel    167       3021.0              Moscow, Russia   \n",
       "1  preventative-maintenance     62       7044.0  Manchester, United Kingdom   \n",
       "2                   7-speed     21       7044.0  Manchester, United Kingdom   \n",
       "3                       lbs     15       3649.0                        None   \n",
       "4               reliability      5       3927.0   Liverpool, United Kingdom   \n",
       "5                  sociable      2       7044.0  Manchester, United Kingdom   \n",
       "6                  ordinary      1       7044.0  Manchester, United Kingdom   \n",
       "7                   dicycle      1       7044.0  Manchester, United Kingdom   \n",
       "\n",
       "  DisplayName  \n",
       "0         jfs  \n",
       "1    Codebeef  \n",
       "2    Codebeef  \n",
       "3         Tim  \n",
       "4  Will Boyce  \n",
       "5    Codebeef  \n",
       "6    Codebeef  \n",
       "7    Codebeef  "
      ]
     },
     "metadata": {},
     "output_type": "display_data"
    }
   ],
   "source": [
    "#sql\n",
    "\n",
    "start1 = timeit.default_timer()\n",
    "\n",
    "df_sgl_3 = pd.read_sql_query(\"SELECT Tags.TagName, Tags.Count, Posts.OwnerUserId,\\\n",
    "                             Users.Location, Users.DisplayName \\\n",
    "                             FROM Tags \\\n",
    "                             JOIN Posts ON Posts.Id=Tags.WikiPostId \\\n",
    "                             JOIN Users ON Users.AccountId=Posts.OwnerUserId \\\n",
    "                             WHERE OwnerUserId != -1\\\n",
    "                             ORDER BY Count DESC\", conn)\n",
    "t3_sql = timeit.default_timer() - start1\n",
    "\n",
    "#pandas \n",
    "start2 = timeit.default_timer()\n",
    "\n",
    "temp1 = pd.merge(tags,posts, how = 'inner', left_on = 'WikiPostId', right_on= 'Id' )\n",
    "temp2=  pd.merge(temp1,users, how = 'inner', left_on = 'OwnerUserId', right_on= 'AccountId' )\n",
    "df_pd_3 = temp2[temp2.OwnerUserId != -1].sort_values(\"Count\", ascending=[False])[[\"TagName\",\"Count\", \"OwnerUserId\", \"Location\", \"DisplayName\"]]\\\n",
    "        .reset_index(drop = True)\n",
    "t3_pd = timeit.default_timer() - start2\n",
    "\n",
    "#wyniki\n",
    "\n",
    "display(df_pd_3.head(10))\n",
    "display(df_sgl_3.head(10))"
   ]
  },
  {
   "cell_type": "markdown",
   "metadata": {},
   "source": [
    "* sprawdzenie poprawności"
   ]
  },
  {
   "cell_type": "code",
   "execution_count": 89,
   "metadata": {},
   "outputs": [
    {
     "data": {
      "text/plain": [
       "True"
      ]
     },
     "execution_count": 89,
     "metadata": {},
     "output_type": "execute_result"
    }
   ],
   "source": [
    "df_sgl_3.equals(df_pd_3)"
   ]
  },
  {
   "cell_type": "markdown",
   "metadata": {},
   "source": [
    "* sprawdzenie typu"
   ]
  },
  {
   "cell_type": "code",
   "execution_count": 65,
   "metadata": {},
   "outputs": [
    {
     "data": {
      "text/plain": [
       "pandas.core.frame.DataFrame"
      ]
     },
     "execution_count": 65,
     "metadata": {},
     "output_type": "execute_result"
    }
   ],
   "source": [
    "type(df_pd_3)"
   ]
  },
  {
   "cell_type": "markdown",
   "metadata": {},
   "source": [
    "* porównanie czasów"
   ]
  },
  {
   "cell_type": "code",
   "execution_count": 211,
   "metadata": {},
   "outputs": [
    {
     "name": "stdout",
     "output_type": "stream",
     "text": [
      "sql: 0.09365570000227308s\n",
      "pd:  0.025771500004339032s\n"
     ]
    }
   ],
   "source": [
    "print('sql: ' + str(t3_sql) + 's')\n",
    "print('pd:  ' + str(t3_pd) + 's')"
   ]
  },
  {
   "cell_type": "markdown",
   "metadata": {},
   "source": [
    "### Zapytanie 4 \n",
    "\n",
    "Zapytanie zwraca tytuł postu oraz liczbę powiązanych postów (RelatedPostId) określoną jako NumLinks dla postów które są pytaniem w porządku malejącym względem NumLinks."
   ]
  },
  {
   "cell_type": "code",
   "execution_count": null,
   "metadata": {},
   "outputs": [],
   "source": []
  },
  {
   "cell_type": "code",
   "execution_count": 207,
   "metadata": {},
   "outputs": [
    {
     "data": {
      "text/html": [
       "<div>\n",
       "<style scoped>\n",
       "    .dataframe tbody tr th:only-of-type {\n",
       "        vertical-align: middle;\n",
       "    }\n",
       "\n",
       "    .dataframe tbody tr th {\n",
       "        vertical-align: top;\n",
       "    }\n",
       "\n",
       "    .dataframe thead th {\n",
       "        text-align: right;\n",
       "    }\n",
       "</style>\n",
       "<table border=\"1\" class=\"dataframe\">\n",
       "  <thead>\n",
       "    <tr style=\"text-align: right;\">\n",
       "      <th></th>\n",
       "      <th>Title</th>\n",
       "      <th>NumLinks</th>\n",
       "    </tr>\n",
       "  </thead>\n",
       "  <tbody>\n",
       "    <tr>\n",
       "      <th>0</th>\n",
       "      <td>Terminology index - a list of bike part names ...</td>\n",
       "      <td>156</td>\n",
       "    </tr>\n",
       "    <tr>\n",
       "      <th>1</th>\n",
       "      <td>Why shouldn't I care what model/make/year my b...</td>\n",
       "      <td>154</td>\n",
       "    </tr>\n",
       "    <tr>\n",
       "      <th>2</th>\n",
       "      <td>How can I tell what year my bike was made?</td>\n",
       "      <td>100</td>\n",
       "    </tr>\n",
       "    <tr>\n",
       "      <th>3</th>\n",
       "      <td>What is the maximum or minimum tire width I ca...</td>\n",
       "      <td>42</td>\n",
       "    </tr>\n",
       "    <tr>\n",
       "      <th>4</th>\n",
       "      <td>Front suspension or full suspension mountain bike</td>\n",
       "      <td>37</td>\n",
       "    </tr>\n",
       "    <tr>\n",
       "      <th>5</th>\n",
       "      <td>What are the differences (and their practical ...</td>\n",
       "      <td>33</td>\n",
       "    </tr>\n",
       "    <tr>\n",
       "      <th>6</th>\n",
       "      <td>Picking a bike for a cyclist new to riding on ...</td>\n",
       "      <td>33</td>\n",
       "    </tr>\n",
       "    <tr>\n",
       "      <th>7</th>\n",
       "      <td>Bike recommendation for daily commute</td>\n",
       "      <td>32</td>\n",
       "    </tr>\n",
       "    <tr>\n",
       "      <th>8</th>\n",
       "      <td>Advice on buying a new bike</td>\n",
       "      <td>32</td>\n",
       "    </tr>\n",
       "    <tr>\n",
       "      <th>9</th>\n",
       "      <td>What makes a good entry level road bike?</td>\n",
       "      <td>30</td>\n",
       "    </tr>\n",
       "  </tbody>\n",
       "</table>\n",
       "</div>"
      ],
      "text/plain": [
       "                                               Title  NumLinks\n",
       "0  Terminology index - a list of bike part names ...       156\n",
       "1  Why shouldn't I care what model/make/year my b...       154\n",
       "2         How can I tell what year my bike was made?       100\n",
       "3  What is the maximum or minimum tire width I ca...        42\n",
       "4  Front suspension or full suspension mountain bike        37\n",
       "5  What are the differences (and their practical ...        33\n",
       "6  Picking a bike for a cyclist new to riding on ...        33\n",
       "7              Bike recommendation for daily commute        32\n",
       "8                        Advice on buying a new bike        32\n",
       "9           What makes a good entry level road bike?        30"
      ]
     },
     "metadata": {},
     "output_type": "display_data"
    },
    {
     "data": {
      "text/html": [
       "<div>\n",
       "<style scoped>\n",
       "    .dataframe tbody tr th:only-of-type {\n",
       "        vertical-align: middle;\n",
       "    }\n",
       "\n",
       "    .dataframe tbody tr th {\n",
       "        vertical-align: top;\n",
       "    }\n",
       "\n",
       "    .dataframe thead th {\n",
       "        text-align: right;\n",
       "    }\n",
       "</style>\n",
       "<table border=\"1\" class=\"dataframe\">\n",
       "  <thead>\n",
       "    <tr style=\"text-align: right;\">\n",
       "      <th></th>\n",
       "      <th>Title</th>\n",
       "      <th>NumLinks</th>\n",
       "    </tr>\n",
       "  </thead>\n",
       "  <tbody>\n",
       "    <tr>\n",
       "      <th>0</th>\n",
       "      <td>Terminology index - a list of bike part names ...</td>\n",
       "      <td>156</td>\n",
       "    </tr>\n",
       "    <tr>\n",
       "      <th>1</th>\n",
       "      <td>Why shouldn't I care what model/make/year my b...</td>\n",
       "      <td>154</td>\n",
       "    </tr>\n",
       "    <tr>\n",
       "      <th>2</th>\n",
       "      <td>How can I tell what year my bike was made?</td>\n",
       "      <td>100</td>\n",
       "    </tr>\n",
       "    <tr>\n",
       "      <th>3</th>\n",
       "      <td>What is the maximum or minimum tire width I ca...</td>\n",
       "      <td>42</td>\n",
       "    </tr>\n",
       "    <tr>\n",
       "      <th>4</th>\n",
       "      <td>Front suspension or full suspension mountain bike</td>\n",
       "      <td>37</td>\n",
       "    </tr>\n",
       "    <tr>\n",
       "      <th>5</th>\n",
       "      <td>What are the differences (and their practical ...</td>\n",
       "      <td>33</td>\n",
       "    </tr>\n",
       "    <tr>\n",
       "      <th>6</th>\n",
       "      <td>Picking a bike for a cyclist new to riding on ...</td>\n",
       "      <td>33</td>\n",
       "    </tr>\n",
       "    <tr>\n",
       "      <th>7</th>\n",
       "      <td>Bike recommendation for daily commute</td>\n",
       "      <td>32</td>\n",
       "    </tr>\n",
       "    <tr>\n",
       "      <th>8</th>\n",
       "      <td>Advice on buying a new bike</td>\n",
       "      <td>32</td>\n",
       "    </tr>\n",
       "    <tr>\n",
       "      <th>9</th>\n",
       "      <td>What makes a good entry level road bike?</td>\n",
       "      <td>30</td>\n",
       "    </tr>\n",
       "  </tbody>\n",
       "</table>\n",
       "</div>"
      ],
      "text/plain": [
       "                                               Title  NumLinks\n",
       "0  Terminology index - a list of bike part names ...       156\n",
       "1  Why shouldn't I care what model/make/year my b...       154\n",
       "2         How can I tell what year my bike was made?       100\n",
       "3  What is the maximum or minimum tire width I ca...        42\n",
       "4  Front suspension or full suspension mountain bike        37\n",
       "5  What are the differences (and their practical ...        33\n",
       "6  Picking a bike for a cyclist new to riding on ...        33\n",
       "7              Bike recommendation for daily commute        32\n",
       "8                        Advice on buying a new bike        32\n",
       "9           What makes a good entry level road bike?        30"
      ]
     },
     "metadata": {},
     "output_type": "display_data"
    }
   ],
   "source": [
    "#sql\n",
    "start1 = timeit.default_timer()\n",
    "\n",
    "df_sgl_4 = pd.read_sql_query(\"SELECT Posts.Title, RelatedTab.NumLinks FROM \\\n",
    "                            (SELECT RelatedPostId AS PostId, COUNT(*) AS NumLinks \\\n",
    "                            FROM PostLinks GROUP BY RelatedPostId) AS RelatedTab \\\n",
    "                            JOIN Posts ON RelatedTab.PostId=Posts.Id \\\n",
    "                            WHERE Posts.PostTypeId=1 \\\n",
    "                            ORDER BY NumLinks DESC\", conn)\n",
    "t4_sql = timeit.default_timer() - start1\n",
    "\n",
    "\n",
    "#pandas\n",
    "\n",
    "start2 = timeit.default_timer()\n",
    "\n",
    "RelatedTab_temp = postLinks.groupby('RelatedPostId').size()\n",
    "RelatedTab_temp = RelatedTab_temp.to_frame().reset_index()\n",
    "RelatedTab = RelatedTab_temp.rename(columns = {'RelatedPostId': 'PostId', 0: 'NumLinks'})\n",
    "posts_temp = posts[posts.PostTypeId == 1]\n",
    "df_pd_4 = pd.merge(RelatedTab, posts_temp, how = 'inner', right_on ='Id', left_on = 'PostId' ) \\\n",
    "        .sort_values(\"NumLinks\", ascending=[False],kind= 'mergesort')[['Title', 'NumLinks']].reset_index(drop = True)\n",
    "t4_pd = timeit.default_timer() - start2\n",
    "\n",
    "#wyniki\n",
    "\n",
    "display(df_pd_4.head(10))\n",
    "display(df_sgl_4.head(10))"
   ]
  },
  {
   "cell_type": "markdown",
   "metadata": {},
   "source": [
    "* poprawność wyników"
   ]
  },
  {
   "cell_type": "code",
   "execution_count": 88,
   "metadata": {},
   "outputs": [
    {
     "data": {
      "text/plain": [
       "True"
      ]
     },
     "execution_count": 88,
     "metadata": {},
     "output_type": "execute_result"
    }
   ],
   "source": [
    "df_sgl_5.equals(df_pd_5)"
   ]
  },
  {
   "cell_type": "markdown",
   "metadata": {},
   "source": [
    "* sprawdzenie typu"
   ]
  },
  {
   "cell_type": "code",
   "execution_count": 51,
   "metadata": {},
   "outputs": [
    {
     "data": {
      "text/plain": [
       "pandas.core.frame.DataFrame"
      ]
     },
     "execution_count": 51,
     "metadata": {},
     "output_type": "execute_result"
    }
   ],
   "source": [
    "type(df_pd_4)"
   ]
  },
  {
   "cell_type": "markdown",
   "metadata": {},
   "source": [
    "* porównanie czasów"
   ]
  },
  {
   "cell_type": "code",
   "execution_count": 208,
   "metadata": {},
   "outputs": [
    {
     "name": "stdout",
     "output_type": "stream",
     "text": [
      "sql: 0.03690020000067307s\n",
      "pd:  0.03320499999972526s\n"
     ]
    }
   ],
   "source": [
    "print('sql: ' + str(t4_sql) + 's')\n",
    "print('pd:  ' + str(t4_pd) + 's')"
   ]
  },
  {
   "cell_type": "markdown",
   "metadata": {},
   "source": [
    "### Zapytanie 5 \n",
    "\n",
    "Zapytanie zwraca Id Postu liczbę głosów 'za' _(UpMod)_ określonych jako _'UpVotes'_ dla postów będących pytaniem w porządku malejącym względem UpVotes. "
   ]
  },
  {
   "cell_type": "code",
   "execution_count": 212,
   "metadata": {},
   "outputs": [
    {
     "data": {
      "text/html": [
       "<div>\n",
       "<style scoped>\n",
       "    .dataframe tbody tr th:only-of-type {\n",
       "        vertical-align: middle;\n",
       "    }\n",
       "\n",
       "    .dataframe tbody tr th {\n",
       "        vertical-align: top;\n",
       "    }\n",
       "\n",
       "    .dataframe thead th {\n",
       "        text-align: right;\n",
       "    }\n",
       "</style>\n",
       "<table border=\"1\" class=\"dataframe\">\n",
       "  <thead>\n",
       "    <tr style=\"text-align: right;\">\n",
       "      <th></th>\n",
       "      <th>PostId</th>\n",
       "      <th>UpVotes</th>\n",
       "      <th>Title</th>\n",
       "    </tr>\n",
       "  </thead>\n",
       "  <tbody>\n",
       "    <tr>\n",
       "      <th>0</th>\n",
       "      <td>1980</td>\n",
       "      <td>174</td>\n",
       "      <td>Why ride a fixed-gear bike?</td>\n",
       "    </tr>\n",
       "    <tr>\n",
       "      <th>1</th>\n",
       "      <td>244</td>\n",
       "      <td>167</td>\n",
       "      <td>Terminology index - a list of bike part names ...</td>\n",
       "    </tr>\n",
       "    <tr>\n",
       "      <th>2</th>\n",
       "      <td>8233</td>\n",
       "      <td>110</td>\n",
       "      <td>How do I deal with a dog chasing me when I'm t...</td>\n",
       "    </tr>\n",
       "    <tr>\n",
       "      <th>3</th>\n",
       "      <td>308</td>\n",
       "      <td>103</td>\n",
       "      <td>How to clean up at work after a commute?</td>\n",
       "    </tr>\n",
       "    <tr>\n",
       "      <th>4</th>\n",
       "      <td>2294</td>\n",
       "      <td>94</td>\n",
       "      <td>Safety data: Which is safer, head/tail lights ...</td>\n",
       "    </tr>\n",
       "    <tr>\n",
       "      <th>5</th>\n",
       "      <td>1500</td>\n",
       "      <td>92</td>\n",
       "      <td>Why are disc brakes rare on road bikes?</td>\n",
       "    </tr>\n",
       "    <tr>\n",
       "      <th>6</th>\n",
       "      <td>2446</td>\n",
       "      <td>87</td>\n",
       "      <td>Why do cyclists prefer messenger bags over bac...</td>\n",
       "    </tr>\n",
       "    <tr>\n",
       "      <th>7</th>\n",
       "      <td>2170</td>\n",
       "      <td>79</td>\n",
       "      <td>Is pollution a problem in urban cycling?</td>\n",
       "    </tr>\n",
       "    <tr>\n",
       "      <th>8</th>\n",
       "      <td>57082</td>\n",
       "      <td>79</td>\n",
       "      <td>How to pass a bicycle while driving a car</td>\n",
       "    </tr>\n",
       "    <tr>\n",
       "      <th>9</th>\n",
       "      <td>14372</td>\n",
       "      <td>77</td>\n",
       "      <td>Can I use WD-40 on my bike?</td>\n",
       "    </tr>\n",
       "  </tbody>\n",
       "</table>\n",
       "</div>"
      ],
      "text/plain": [
       "   PostId  UpVotes                                              Title\n",
       "0    1980      174                        Why ride a fixed-gear bike?\n",
       "1     244      167  Terminology index - a list of bike part names ...\n",
       "2    8233      110  How do I deal with a dog chasing me when I'm t...\n",
       "3     308      103           How to clean up at work after a commute?\n",
       "4    2294       94  Safety data: Which is safer, head/tail lights ...\n",
       "5    1500       92            Why are disc brakes rare on road bikes?\n",
       "6    2446       87  Why do cyclists prefer messenger bags over bac...\n",
       "7    2170       79           Is pollution a problem in urban cycling?\n",
       "8   57082       79          How to pass a bicycle while driving a car\n",
       "9   14372       77                        Can I use WD-40 on my bike?"
      ]
     },
     "metadata": {},
     "output_type": "display_data"
    },
    {
     "data": {
      "text/html": [
       "<div>\n",
       "<style scoped>\n",
       "    .dataframe tbody tr th:only-of-type {\n",
       "        vertical-align: middle;\n",
       "    }\n",
       "\n",
       "    .dataframe tbody tr th {\n",
       "        vertical-align: top;\n",
       "    }\n",
       "\n",
       "    .dataframe thead th {\n",
       "        text-align: right;\n",
       "    }\n",
       "</style>\n",
       "<table border=\"1\" class=\"dataframe\">\n",
       "  <thead>\n",
       "    <tr style=\"text-align: right;\">\n",
       "      <th></th>\n",
       "      <th>PostId</th>\n",
       "      <th>UpVotes</th>\n",
       "      <th>Title</th>\n",
       "    </tr>\n",
       "  </thead>\n",
       "  <tbody>\n",
       "    <tr>\n",
       "      <th>0</th>\n",
       "      <td>1980</td>\n",
       "      <td>174</td>\n",
       "      <td>Why ride a fixed-gear bike?</td>\n",
       "    </tr>\n",
       "    <tr>\n",
       "      <th>1</th>\n",
       "      <td>244</td>\n",
       "      <td>167</td>\n",
       "      <td>Terminology index - a list of bike part names ...</td>\n",
       "    </tr>\n",
       "    <tr>\n",
       "      <th>2</th>\n",
       "      <td>8233</td>\n",
       "      <td>110</td>\n",
       "      <td>How do I deal with a dog chasing me when I'm t...</td>\n",
       "    </tr>\n",
       "    <tr>\n",
       "      <th>3</th>\n",
       "      <td>308</td>\n",
       "      <td>103</td>\n",
       "      <td>How to clean up at work after a commute?</td>\n",
       "    </tr>\n",
       "    <tr>\n",
       "      <th>4</th>\n",
       "      <td>2294</td>\n",
       "      <td>94</td>\n",
       "      <td>Safety data: Which is safer, head/tail lights ...</td>\n",
       "    </tr>\n",
       "    <tr>\n",
       "      <th>5</th>\n",
       "      <td>1500</td>\n",
       "      <td>92</td>\n",
       "      <td>Why are disc brakes rare on road bikes?</td>\n",
       "    </tr>\n",
       "    <tr>\n",
       "      <th>6</th>\n",
       "      <td>2446</td>\n",
       "      <td>87</td>\n",
       "      <td>Why do cyclists prefer messenger bags over bac...</td>\n",
       "    </tr>\n",
       "    <tr>\n",
       "      <th>7</th>\n",
       "      <td>2170</td>\n",
       "      <td>79</td>\n",
       "      <td>Is pollution a problem in urban cycling?</td>\n",
       "    </tr>\n",
       "    <tr>\n",
       "      <th>8</th>\n",
       "      <td>57082</td>\n",
       "      <td>79</td>\n",
       "      <td>How to pass a bicycle while driving a car</td>\n",
       "    </tr>\n",
       "    <tr>\n",
       "      <th>9</th>\n",
       "      <td>14372</td>\n",
       "      <td>77</td>\n",
       "      <td>Can I use WD-40 on my bike?</td>\n",
       "    </tr>\n",
       "  </tbody>\n",
       "</table>\n",
       "</div>"
      ],
      "text/plain": [
       "   PostId  UpVotes                                              Title\n",
       "0    1980      174                        Why ride a fixed-gear bike?\n",
       "1     244      167  Terminology index - a list of bike part names ...\n",
       "2    8233      110  How do I deal with a dog chasing me when I'm t...\n",
       "3     308      103           How to clean up at work after a commute?\n",
       "4    2294       94  Safety data: Which is safer, head/tail lights ...\n",
       "5    1500       92            Why are disc brakes rare on road bikes?\n",
       "6    2446       87  Why do cyclists prefer messenger bags over bac...\n",
       "7    2170       79           Is pollution a problem in urban cycling?\n",
       "8   57082       79          How to pass a bicycle while driving a car\n",
       "9   14372       77                        Can I use WD-40 on my bike?"
      ]
     },
     "metadata": {},
     "output_type": "display_data"
    }
   ],
   "source": [
    "#sql\n",
    "start1 = timeit.default_timer()\n",
    "df_sgl_5 = pd.read_sql_query(\"SELECT UpVotesTab.*, Posts.Title FROM \\\n",
    "                            ( \\\n",
    "                            SELECT PostId, COUNT(*) AS UpVotes FROM Votes WHERE VoteTypeId=2 GROUP BY PostId \\\n",
    "                            ) AS UpVotesTab \\\n",
    "                            JOIN Posts ON UpVotesTab.PostId=Posts.Id \\\n",
    "                            WHERE Posts.PostTypeId=1 \\\n",
    "                            ORDER BY UpVotesTab.UpVotes DESC\", conn)\n",
    "t5_sql = timeit.default_timer() - start1\n",
    "\n",
    "#pandas\n",
    "\n",
    "start2 = timeit.default_timer()\n",
    "\n",
    "UpVotesTab = votes[votes.VoteTypeId == 2 ].groupby('PostId').size()\n",
    "UpVotesTab = UpVotesTab.to_frame().reset_index().rename(columns = { 0: 'UpVotes'})\n",
    "posts_temp = posts[posts.PostTypeId == 1][['Title', 'Id']]\n",
    "df_pd_5 = pd.merge(UpVotesTab, posts_temp, right_on = 'Id', left_on = 'PostId', how = 'inner' ) \\\n",
    "         .sort_values('UpVotes', ascending=False,kind= 'mergesort').drop('Id', axis='columns').reset_index(drop = True)\n",
    "\n",
    "t5_pd = timeit.default_timer() - start2\n",
    "#wyniki\n",
    "\n",
    "display(df_pd_5.head(10))\n",
    "display(df_sgl_5.head(10))\n"
   ]
  },
  {
   "cell_type": "markdown",
   "metadata": {},
   "source": [
    "* porównanie wyników "
   ]
  },
  {
   "cell_type": "code",
   "execution_count": 84,
   "metadata": {},
   "outputs": [
    {
     "data": {
      "text/plain": [
       "True"
      ]
     },
     "execution_count": 84,
     "metadata": {},
     "output_type": "execute_result"
    }
   ],
   "source": [
    "df_sgl_5.equals(df_pd_5)"
   ]
  },
  {
   "cell_type": "markdown",
   "metadata": {},
   "source": [
    "* sprawdzenie typu"
   ]
  },
  {
   "cell_type": "code",
   "execution_count": 85,
   "metadata": {},
   "outputs": [
    {
     "data": {
      "text/plain": [
       "pandas.core.frame.DataFrame"
      ]
     },
     "execution_count": 85,
     "metadata": {},
     "output_type": "execute_result"
    }
   ],
   "source": [
    "type(df_pd_5)"
   ]
  },
  {
   "cell_type": "markdown",
   "metadata": {},
   "source": [
    "* porównanie czasów "
   ]
  },
  {
   "cell_type": "code",
   "execution_count": 214,
   "metadata": {},
   "outputs": [
    {
     "name": "stdout",
     "output_type": "stream",
     "text": [
      "sql: 0.2556944000025396s\n",
      "pd:  0.04737699999532197s\n"
     ]
    }
   ],
   "source": [
    "print('sql: ' + str(t5_sql) + 's')\n",
    "print('pd:  ' + str(t5_pd) + 's')"
   ]
  },
  {
   "cell_type": "code",
   "execution_count": null,
   "metadata": {},
   "outputs": [],
   "source": []
  },
  {
   "cell_type": "code",
   "execution_count": null,
   "metadata": {},
   "outputs": [],
   "source": []
  },
  {
   "cell_type": "markdown",
   "metadata": {},
   "source": [
    "### Zapytanie 6 \n",
    "\n",
    "Zapytanie dla każdego Id postu który otrzymał głos 'za' ('UpMod') zwraca liczbę tych głosów oraz liczbę głosów 'przeciw' (DownMod). Gdy nie ma informacji o głosach 'DownMod', zwracane jest 0.\n"
   ]
  },
  {
   "cell_type": "code",
   "execution_count": 229,
   "metadata": {},
   "outputs": [
    {
     "data": {
      "text/html": [
       "<div>\n",
       "<style scoped>\n",
       "    .dataframe tbody tr th:only-of-type {\n",
       "        vertical-align: middle;\n",
       "    }\n",
       "\n",
       "    .dataframe tbody tr th {\n",
       "        vertical-align: top;\n",
       "    }\n",
       "\n",
       "    .dataframe thead th {\n",
       "        text-align: right;\n",
       "    }\n",
       "</style>\n",
       "<table border=\"1\" class=\"dataframe\">\n",
       "  <thead>\n",
       "    <tr style=\"text-align: right;\">\n",
       "      <th></th>\n",
       "      <th>PostId</th>\n",
       "      <th>UpVotes</th>\n",
       "      <th>DownVotes</th>\n",
       "    </tr>\n",
       "  </thead>\n",
       "  <tbody>\n",
       "    <tr>\n",
       "      <th>0</th>\n",
       "      <td>1</td>\n",
       "      <td>42</td>\n",
       "      <td>0</td>\n",
       "    </tr>\n",
       "    <tr>\n",
       "      <th>1</th>\n",
       "      <td>2</td>\n",
       "      <td>13</td>\n",
       "      <td>0</td>\n",
       "    </tr>\n",
       "    <tr>\n",
       "      <th>2</th>\n",
       "      <td>3</td>\n",
       "      <td>10</td>\n",
       "      <td>0</td>\n",
       "    </tr>\n",
       "    <tr>\n",
       "      <th>3</th>\n",
       "      <td>4</td>\n",
       "      <td>16</td>\n",
       "      <td>0</td>\n",
       "    </tr>\n",
       "    <tr>\n",
       "      <th>4</th>\n",
       "      <td>5</td>\n",
       "      <td>31</td>\n",
       "      <td>0</td>\n",
       "    </tr>\n",
       "    <tr>\n",
       "      <th>5</th>\n",
       "      <td>6</td>\n",
       "      <td>22</td>\n",
       "      <td>0</td>\n",
       "    </tr>\n",
       "    <tr>\n",
       "      <th>6</th>\n",
       "      <td>7</td>\n",
       "      <td>4</td>\n",
       "      <td>0</td>\n",
       "    </tr>\n",
       "    <tr>\n",
       "      <th>7</th>\n",
       "      <td>8</td>\n",
       "      <td>10</td>\n",
       "      <td>0</td>\n",
       "    </tr>\n",
       "    <tr>\n",
       "      <th>8</th>\n",
       "      <td>9</td>\n",
       "      <td>3</td>\n",
       "      <td>0</td>\n",
       "    </tr>\n",
       "    <tr>\n",
       "      <th>9</th>\n",
       "      <td>10</td>\n",
       "      <td>5</td>\n",
       "      <td>1</td>\n",
       "    </tr>\n",
       "  </tbody>\n",
       "</table>\n",
       "</div>"
      ],
      "text/plain": [
       "   PostId  UpVotes  DownVotes\n",
       "0       1       42          0\n",
       "1       2       13          0\n",
       "2       3       10          0\n",
       "3       4       16          0\n",
       "4       5       31          0\n",
       "5       6       22          0\n",
       "6       7        4          0\n",
       "7       8       10          0\n",
       "8       9        3          0\n",
       "9      10        5          1"
      ]
     },
     "metadata": {},
     "output_type": "display_data"
    },
    {
     "data": {
      "text/html": [
       "<div>\n",
       "<style scoped>\n",
       "    .dataframe tbody tr th:only-of-type {\n",
       "        vertical-align: middle;\n",
       "    }\n",
       "\n",
       "    .dataframe tbody tr th {\n",
       "        vertical-align: top;\n",
       "    }\n",
       "\n",
       "    .dataframe thead th {\n",
       "        text-align: right;\n",
       "    }\n",
       "</style>\n",
       "<table border=\"1\" class=\"dataframe\">\n",
       "  <thead>\n",
       "    <tr style=\"text-align: right;\">\n",
       "      <th></th>\n",
       "      <th>PostId</th>\n",
       "      <th>UpVotes</th>\n",
       "      <th>DownVotes</th>\n",
       "    </tr>\n",
       "  </thead>\n",
       "  <tbody>\n",
       "    <tr>\n",
       "      <th>0</th>\n",
       "      <td>1</td>\n",
       "      <td>42</td>\n",
       "      <td>0</td>\n",
       "    </tr>\n",
       "    <tr>\n",
       "      <th>1</th>\n",
       "      <td>2</td>\n",
       "      <td>13</td>\n",
       "      <td>0</td>\n",
       "    </tr>\n",
       "    <tr>\n",
       "      <th>2</th>\n",
       "      <td>3</td>\n",
       "      <td>10</td>\n",
       "      <td>0</td>\n",
       "    </tr>\n",
       "    <tr>\n",
       "      <th>3</th>\n",
       "      <td>4</td>\n",
       "      <td>16</td>\n",
       "      <td>0</td>\n",
       "    </tr>\n",
       "    <tr>\n",
       "      <th>4</th>\n",
       "      <td>5</td>\n",
       "      <td>31</td>\n",
       "      <td>0</td>\n",
       "    </tr>\n",
       "    <tr>\n",
       "      <th>5</th>\n",
       "      <td>6</td>\n",
       "      <td>22</td>\n",
       "      <td>0</td>\n",
       "    </tr>\n",
       "    <tr>\n",
       "      <th>6</th>\n",
       "      <td>7</td>\n",
       "      <td>4</td>\n",
       "      <td>0</td>\n",
       "    </tr>\n",
       "    <tr>\n",
       "      <th>7</th>\n",
       "      <td>8</td>\n",
       "      <td>10</td>\n",
       "      <td>0</td>\n",
       "    </tr>\n",
       "    <tr>\n",
       "      <th>8</th>\n",
       "      <td>9</td>\n",
       "      <td>3</td>\n",
       "      <td>0</td>\n",
       "    </tr>\n",
       "    <tr>\n",
       "      <th>9</th>\n",
       "      <td>10</td>\n",
       "      <td>5</td>\n",
       "      <td>1</td>\n",
       "    </tr>\n",
       "  </tbody>\n",
       "</table>\n",
       "</div>"
      ],
      "text/plain": [
       "   PostId  UpVotes  DownVotes\n",
       "0       1       42          0\n",
       "1       2       13          0\n",
       "2       3       10          0\n",
       "3       4       16          0\n",
       "4       5       31          0\n",
       "5       6       22          0\n",
       "6       7        4          0\n",
       "7       8       10          0\n",
       "8       9        3          0\n",
       "9      10        5          1"
      ]
     },
     "metadata": {},
     "output_type": "display_data"
    }
   ],
   "source": [
    "#sql\n",
    "\n",
    "start1 = timeit.default_timer()\n",
    "df_sgl_6 = pd.read_sql_query(\"SELECT UpVotesTab.PostId, UpVotesTab.UpVotes, IFNULL(DownVotesTab.DownVotes, 0) AS DownVotes \\\n",
    "                            FROM \\\n",
    "                            (\\\n",
    "                            SELECT PostId, COUNT(*) AS UpVotes FROM Votes\\\n",
    "                            WHERE VoteTypeId=2 GROUP BY PostId\\\n",
    "                            ) AS UpVotesTab\\\n",
    "                            LEFT JOIN\\\n",
    "                            (\\\n",
    "                            SELECT PostId, COUNT(*) AS DownVotes FROM Votes\\\n",
    "                            WHERE VoteTypeId=3 GROUP BY PostId\\\n",
    "                            ) AS DownVotesTab\\\n",
    "                            ON UpVotesTab.PostId=DownVotesTab.PostId\", conn)\n",
    "                            \n",
    "t6_sql = timeit.default_timer() - start1\n",
    "\n",
    "#pandas\n",
    "\n",
    "start2 = timeit.default_timer()\n",
    "\n",
    "UpVotesTab_temp = votes[votes.VoteTypeId == 2].groupby('PostId').size()\n",
    "UpVotesTab = UpVotesTab_temp.to_frame().reset_index().rename(columns = { 0: 'UpVotes'})\n",
    "\n",
    "DownVotesTab_temp = votes[votes.VoteTypeId == 3].groupby('PostId').size()\n",
    "DownVotesTab = DownVotesTab_temp.to_frame().reset_index().rename(columns = { 0: 'DownVotes'})\n",
    "\n",
    "df_pd_6 = pd.merge(UpVotesTab,DownVotesTab, how = 'left', on = 'PostId')\n",
    "df_pd_6['DownVotes'] = df_pd_6['DownVotes'].replace(np.nan, 0)\n",
    "df_pd_6['DownVotes'] = df_pd_6['DownVotes'].astype(np.int64)\n",
    "\n",
    "t6_pd = timeit.default_timer() - start2\n",
    "\n",
    "# wyniki \n",
    "\n",
    "display(df_pd_6.head(10))\n",
    "display(df_sgl_6.head(10))\n"
   ]
  },
  {
   "cell_type": "markdown",
   "metadata": {},
   "source": [
    "* porównanie wyników"
   ]
  },
  {
   "cell_type": "code",
   "execution_count": 224,
   "metadata": {},
   "outputs": [
    {
     "data": {
      "text/plain": [
       "True"
      ]
     },
     "execution_count": 224,
     "metadata": {},
     "output_type": "execute_result"
    }
   ],
   "source": [
    "\n",
    "df_sgl_6.equals(df_pd_6) \n"
   ]
  },
  {
   "cell_type": "markdown",
   "metadata": {},
   "source": [
    "* sprawdzenie typu"
   ]
  },
  {
   "cell_type": "code",
   "execution_count": 182,
   "metadata": {},
   "outputs": [
    {
     "data": {
      "text/plain": [
       "pandas.core.frame.DataFrame"
      ]
     },
     "execution_count": 182,
     "metadata": {},
     "output_type": "execute_result"
    }
   ],
   "source": [
    "type(df_pd_6)"
   ]
  },
  {
   "cell_type": "markdown",
   "metadata": {},
   "source": [
    "* porównanie czasów"
   ]
  },
  {
   "cell_type": "code",
   "execution_count": 225,
   "metadata": {},
   "outputs": [
    {
     "name": "stdout",
     "output_type": "stream",
     "text": [
      "sql: 0.30428329999995185s\n",
      "pd:  0.036605300003429875s\n"
     ]
    }
   ],
   "source": [
    "print('sql: ' + str(t6_sql) + 's')\n",
    "print('pd:  ' + str(t6_pd) + 's')"
   ]
  },
  {
   "cell_type": "markdown",
   "metadata": {},
   "source": [
    "### Zapytanie 7\n",
    "\n",
    "Zapytanie zwraca Id postu oraz różnicę w ilości głosów 'za' (UpMod) i 'przeciw' (DownMod).\n"
   ]
  },
  {
   "cell_type": "code",
   "execution_count": 226,
   "metadata": {},
   "outputs": [
    {
     "data": {
      "text/html": [
       "<div>\n",
       "<style scoped>\n",
       "    .dataframe tbody tr th:only-of-type {\n",
       "        vertical-align: middle;\n",
       "    }\n",
       "\n",
       "    .dataframe tbody tr th {\n",
       "        vertical-align: top;\n",
       "    }\n",
       "\n",
       "    .dataframe thead th {\n",
       "        text-align: right;\n",
       "    }\n",
       "</style>\n",
       "<table border=\"1\" class=\"dataframe\">\n",
       "  <thead>\n",
       "    <tr style=\"text-align: right;\">\n",
       "      <th></th>\n",
       "      <th>PostId</th>\n",
       "      <th>Votes</th>\n",
       "    </tr>\n",
       "  </thead>\n",
       "  <tbody>\n",
       "    <tr>\n",
       "      <th>0</th>\n",
       "      <td>1</td>\n",
       "      <td>42</td>\n",
       "    </tr>\n",
       "    <tr>\n",
       "      <th>1</th>\n",
       "      <td>2</td>\n",
       "      <td>13</td>\n",
       "    </tr>\n",
       "    <tr>\n",
       "      <th>2</th>\n",
       "      <td>3</td>\n",
       "      <td>10</td>\n",
       "    </tr>\n",
       "    <tr>\n",
       "      <th>3</th>\n",
       "      <td>4</td>\n",
       "      <td>16</td>\n",
       "    </tr>\n",
       "    <tr>\n",
       "      <th>4</th>\n",
       "      <td>5</td>\n",
       "      <td>31</td>\n",
       "    </tr>\n",
       "    <tr>\n",
       "      <th>5</th>\n",
       "      <td>6</td>\n",
       "      <td>22</td>\n",
       "    </tr>\n",
       "    <tr>\n",
       "      <th>6</th>\n",
       "      <td>7</td>\n",
       "      <td>4</td>\n",
       "    </tr>\n",
       "    <tr>\n",
       "      <th>7</th>\n",
       "      <td>8</td>\n",
       "      <td>10</td>\n",
       "    </tr>\n",
       "    <tr>\n",
       "      <th>8</th>\n",
       "      <td>9</td>\n",
       "      <td>3</td>\n",
       "    </tr>\n",
       "    <tr>\n",
       "      <th>9</th>\n",
       "      <td>10</td>\n",
       "      <td>4</td>\n",
       "    </tr>\n",
       "    <tr>\n",
       "      <th>10</th>\n",
       "      <td>11</td>\n",
       "      <td>-1</td>\n",
       "    </tr>\n",
       "  </tbody>\n",
       "</table>\n",
       "</div>"
      ],
      "text/plain": [
       "    PostId  Votes\n",
       "0        1     42\n",
       "1        2     13\n",
       "2        3     10\n",
       "3        4     16\n",
       "4        5     31\n",
       "5        6     22\n",
       "6        7      4\n",
       "7        8     10\n",
       "8        9      3\n",
       "9       10      4\n",
       "10      11     -1"
      ]
     },
     "metadata": {},
     "output_type": "display_data"
    },
    {
     "data": {
      "text/html": [
       "<div>\n",
       "<style scoped>\n",
       "    .dataframe tbody tr th:only-of-type {\n",
       "        vertical-align: middle;\n",
       "    }\n",
       "\n",
       "    .dataframe tbody tr th {\n",
       "        vertical-align: top;\n",
       "    }\n",
       "\n",
       "    .dataframe thead th {\n",
       "        text-align: right;\n",
       "    }\n",
       "</style>\n",
       "<table border=\"1\" class=\"dataframe\">\n",
       "  <thead>\n",
       "    <tr style=\"text-align: right;\">\n",
       "      <th></th>\n",
       "      <th>PostId</th>\n",
       "      <th>Votes</th>\n",
       "    </tr>\n",
       "  </thead>\n",
       "  <tbody>\n",
       "    <tr>\n",
       "      <th>0</th>\n",
       "      <td>1</td>\n",
       "      <td>42</td>\n",
       "    </tr>\n",
       "    <tr>\n",
       "      <th>1</th>\n",
       "      <td>2</td>\n",
       "      <td>13</td>\n",
       "    </tr>\n",
       "    <tr>\n",
       "      <th>2</th>\n",
       "      <td>3</td>\n",
       "      <td>10</td>\n",
       "    </tr>\n",
       "    <tr>\n",
       "      <th>3</th>\n",
       "      <td>4</td>\n",
       "      <td>16</td>\n",
       "    </tr>\n",
       "    <tr>\n",
       "      <th>4</th>\n",
       "      <td>5</td>\n",
       "      <td>31</td>\n",
       "    </tr>\n",
       "    <tr>\n",
       "      <th>5</th>\n",
       "      <td>6</td>\n",
       "      <td>22</td>\n",
       "    </tr>\n",
       "    <tr>\n",
       "      <th>6</th>\n",
       "      <td>7</td>\n",
       "      <td>4</td>\n",
       "    </tr>\n",
       "    <tr>\n",
       "      <th>7</th>\n",
       "      <td>8</td>\n",
       "      <td>10</td>\n",
       "    </tr>\n",
       "    <tr>\n",
       "      <th>8</th>\n",
       "      <td>9</td>\n",
       "      <td>3</td>\n",
       "    </tr>\n",
       "    <tr>\n",
       "      <th>9</th>\n",
       "      <td>10</td>\n",
       "      <td>4</td>\n",
       "    </tr>\n",
       "    <tr>\n",
       "      <th>10</th>\n",
       "      <td>11</td>\n",
       "      <td>-1</td>\n",
       "    </tr>\n",
       "  </tbody>\n",
       "</table>\n",
       "</div>"
      ],
      "text/plain": [
       "    PostId  Votes\n",
       "0        1     42\n",
       "1        2     13\n",
       "2        3     10\n",
       "3        4     16\n",
       "4        5     31\n",
       "5        6     22\n",
       "6        7      4\n",
       "7        8     10\n",
       "8        9      3\n",
       "9       10      4\n",
       "10      11     -1"
      ]
     },
     "metadata": {},
     "output_type": "display_data"
    }
   ],
   "source": [
    "#sql\n",
    "\n",
    "start1 = timeit.default_timer()\n",
    "df_sgl_7 = pd.read_sql_query(\"SELECT PostId, UpVotes-DownVotes AS Votes FROM ( \\\n",
    "                            SELECT UpVotesTab.PostId, UpVotesTab.UpVotes, IFNULL(DownVotesTab.DownVotes, 0) AS DownVotes\\\n",
    "                            FROM\\\n",
    "                            (\\\n",
    "                            SELECT PostId, COUNT(*) AS UpVotes FROM Votes\\\n",
    "                            WHERE VoteTypeId=2 GROUP BY PostId\\\n",
    "                            ) AS UpVotesTab\\\n",
    "                            LEFT JOIN\\\n",
    "                            (\\\n",
    "                            SELECT PostId, COUNT(*) AS DownVotes\\\n",
    "                            FROM Votes WHERE VoteTypeId=3 GROUP BY PostId\\\n",
    "                            ) AS DownVotesTab\\\n",
    "                            ON UpVotesTab.PostId=DownVotesTab.PostId\\\n",
    "                            UNION\\\n",
    "                            SELECT DownVotesTab.PostId, IFNULL(UpVotesTab.UpVotes, 0) AS UpVotes, DownVotesTab.DownVotes\\\n",
    "                            FROM\\\n",
    "                            (\\\n",
    "                            SELECT PostId, COUNT(*) AS DownVotes FROM Votes\\\n",
    "                            WHERE VoteTypeId=3 GROUP BY PostId\\\n",
    "                            ) AS DownVotesTab\\\n",
    "                            LEFT JOIN\\\n",
    "                            (\\\n",
    "                            SELECT PostId, COUNT(*) AS UpVotes FROM Votes\\\n",
    "                            WHERE VoteTypeId=2 GROUP BY PostId\\\n",
    "                            ) AS UpVotesTab\\\n",
    "                            ON DownVotesTab.PostId=UpVotesTab.PostId\\\n",
    "                            )\", conn)\n",
    "t7_sql = timeit.default_timer() - start1\n",
    "                            \n",
    "#pandas\n",
    "\n",
    "start2 = timeit.default_timer()\n",
    "\n",
    "UpVotesTab_temp = votes[votes.VoteTypeId == 2].groupby('PostId').size()\n",
    "UpVotesTab = UpVotesTab_temp.to_frame().reset_index().rename(columns = { 0: 'UpVotes'}) \n",
    "DownVotesTab_temp = votes[votes.VoteTypeId == 3].groupby('PostId').size()\n",
    "DownVotesTab = DownVotesTab_temp.to_frame().reset_index().rename(columns = { 0: 'DownVotes'}) \n",
    "\n",
    "left = pd.merge(UpVotesTab,DownVotesTab, how = 'left', on = 'PostId' )\n",
    "left2 = pd.merge(DownVotesTab,UpVotesTab, how = 'left', on = 'PostId' )\n",
    "left2['UpVotes'] = left2['UpVotes'].replace(np.nan, 0)\n",
    "left2['UpVotes'] = left2['UpVotes'].astype(int)\n",
    "\n",
    "\n",
    "df_pd_7 = pd.concat([left,left2],sort=False).drop_duplicates()\n",
    "df_pd_7['DownVotes'] = df_pd_7['DownVotes'].replace(np.nan, 0)\n",
    "df_pd_7['DownVotes'] = df_pd_7['DownVotes'].astype(int)\n",
    "df_pd_7['Votes'] = df_pd_7['UpVotes'] - df_pd_7['DownVotes']\n",
    "df_pd_7 = df_pd_7[['PostId','Votes']].sort_values('PostId', ascending=True, kind= 'mergesort').reset_index(drop = True)\n",
    "\n",
    "t7_pd = timeit.default_timer() - start2\n",
    "\n",
    "#wyniki\n",
    "\n",
    "display(df_pd_7.head(11))\n",
    "display(df_sgl_7.head(11))"
   ]
  },
  {
   "cell_type": "markdown",
   "metadata": {},
   "source": [
    "* porówanie wyników"
   ]
  },
  {
   "cell_type": "code",
   "execution_count": 179,
   "metadata": {
    "scrolled": true
   },
   "outputs": [
    {
     "data": {
      "text/plain": [
       "True"
      ]
     },
     "execution_count": 179,
     "metadata": {},
     "output_type": "execute_result"
    }
   ],
   "source": [
    "df_sgl_7.equals(df_pd_7)"
   ]
  },
  {
   "cell_type": "markdown",
   "metadata": {},
   "source": [
    "* sprawdzenie typu "
   ]
  },
  {
   "cell_type": "code",
   "execution_count": 138,
   "metadata": {},
   "outputs": [
    {
     "data": {
      "text/plain": [
       "pandas.core.frame.DataFrame"
      ]
     },
     "execution_count": 138,
     "metadata": {},
     "output_type": "execute_result"
    }
   ],
   "source": [
    "type(df_pd_7)"
   ]
  },
  {
   "cell_type": "markdown",
   "metadata": {},
   "source": [
    "* porównanie czasów"
   ]
  },
  {
   "cell_type": "code",
   "execution_count": 227,
   "metadata": {},
   "outputs": [
    {
     "name": "stdout",
     "output_type": "stream",
     "text": [
      "sql: 0.5894488000049023s\n",
      "pd:  0.10622239999793237s\n"
     ]
    }
   ],
   "source": [
    "print('sql: ' + str(t7_sql) + 's')\n",
    "print('pd:  ' + str(t7_pd) + 's')"
   ]
  },
  {
   "cell_type": "markdown",
   "metadata": {},
   "source": [
    "### Podsumowanie \n",
    "We wszystkich przypadkach udało się uzyskać te same wyniki przy pomocy pd.read_sql_query oraz funkcji pakietu pandas.\n",
    "Wszystkie zwracane wyniki są klasy DataFrame.\n",
    "Porównanie czasów prowadzi do wniosku, iż zazwyczaj funkcje pakietu 'Pandas' są wiele szybsze, w szczególności w przypadku bardzo złożonych zapytań.\n",
    "Tylko w przypadku 4 funkcja read_sql_query okazała się minimalnie szybsza. "
   ]
  },
  {
   "cell_type": "code",
   "execution_count": null,
   "metadata": {},
   "outputs": [],
   "source": []
  }
 ],
 "metadata": {
  "kernelspec": {
   "display_name": "Python 3",
   "language": "python",
   "name": "python3"
  },
  "language_info": {
   "codemirror_mode": {
    "name": "ipython",
    "version": 3
   },
   "file_extension": ".py",
   "mimetype": "text/x-python",
   "name": "python",
   "nbconvert_exporter": "python",
   "pygments_lexer": "ipython3",
   "version": "3.7.3"
  }
 },
 "nbformat": 4,
 "nbformat_minor": 2
}
